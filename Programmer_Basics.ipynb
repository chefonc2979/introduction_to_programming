{
  "nbformat": 4,
  "nbformat_minor": 0,
  "metadata": {
    "colab": {
      "name": "Programmer_Basics.ipynb",
      "provenance": [],
      "collapsed_sections": [
        "_5H-cHMWKmKq",
        "YBwQoAxdnUJa",
        "Bra0fDg6nnW7",
        "cw4uPIk0vyzP",
        "zVchKkIcoDuN",
        "97cKzkcLoKsw",
        "WN5ZFvfGoPrU",
        "lW4ffa32ktf3",
        "hx0-AiY5quNC",
        "LhAWk7L9CTFS"
      ],
      "toc_visible": true
    },
    "kernelspec": {
      "name": "python3",
      "display_name": "Python 3"
    }
  },
  "cells": [
    {
      "cell_type": "markdown",
      "metadata": {
        "id": "BhEGx8NdaHtP"
      },
      "source": [
        "# Course Objective\n",
        "\n",
        "The goal of this course is to provide you with the foundational knowledge necessary to be familiar with the python programming language. This course also serves as an introduction to software development fundamentals and is starting point for future courses.\n",
        "\n",
        "Topics Covered\n",
        "- Abstraction\n",
        "- Variables\n",
        "- Arithmetic Operation\n",
        "- Collections\n",
        "- Control Flow\n",
        "- Functions"
      ]
    },
    {
      "cell_type": "markdown",
      "metadata": {
        "id": "GKGv22oGKCpb"
      },
      "source": [
        "# What is a programming language and the need for abstraction?\r\n",
        "\r\n",
        "An abstraction is a way — be it a piece of code like a library, or a language feature — that allows you to think of your code in a more human-friendly way than would be possible without it.\r\n",
        "\r\n",
        "An abstraction lets you picture systems as if you were actually manipulating it instead of the actual implementation, which is often complex and full of nasty details you don’t actually really care about.\r\n",
        "\r\n",
        "Programming language are high level abstractions that allow a user to write computer instructions using a human readable language."
      ]
    },
    {
      "cell_type": "markdown",
      "metadata": {
        "id": "Ntuku2kKEMZI"
      },
      "source": [
        "# What is python?\r\n",
        "\r\n",
        "Python is a general-purpose coding language\r\n",
        "- Back end development\r\n",
        "-  Software development\r\n",
        "-  Data science/Machine Learning and Artificial Intelligence\r\n",
        "- Writing system scripts\r\n",
        "\r\n",
        "As of January 2021, Python ranks third in TIOBE’s index of most popular programming languages, behind C and Java\r\n"
      ]
    },
    {
      "cell_type": "code",
      "metadata": {
        "colab": {
          "base_uri": "https://localhost:8080/",
          "height": 321
        },
        "id": "I5cOoN5NTaCy",
        "outputId": "8804eb3b-2b27-4e39-f1c1-4775cdfc8190"
      },
      "source": [
        "from IPython.display import YouTubeVideo\r\n",
        "YouTubeVideo('Y8Tko2YC5hA')"
      ],
      "execution_count": null,
      "outputs": [
        {
          "output_type": "execute_result",
          "data": {
            "text/html": [
              "\n",
              "        <iframe\n",
              "            width=\"400\"\n",
              "            height=\"300\"\n",
              "            src=\"https://www.youtube.com/embed/Y8Tko2YC5hA\"\n",
              "            frameborder=\"0\"\n",
              "            allowfullscreen\n",
              "        ></iframe>\n",
              "        "
            ],
            "text/plain": [
              "<IPython.lib.display.YouTubeVideo at 0x7f1b93ebc210>"
            ],
            "image/jpeg": "[encoded data removed]"
          },
          "metadata": {
            "tags": []
          },
          "execution_count": 18
        }
      ]
    },
    {
      "cell_type": "markdown",
      "metadata": {
        "id": "Hz2Y-vSQ-URQ"
      },
      "source": [
        "# Variables\r\n",
        "* A variable name must start with a letter or the underscore character.\r\n",
        "* A variable name cannot start with a number.\r\n",
        "* A variable name can only contain alpha-numeric characters and underscores (A-z, 0-9, and _ ).\r\n",
        "* Variable names are case-sensitive (name, Name and NAME are three different variables).\r\n",
        "* The reserved words(keywords) cannot be used naming the variable."
      ]
    },
    {
      "cell_type": "markdown",
      "metadata": {
        "id": "Bra0fDg6nnW7"
      },
      "source": [
        "## Strings"
      ]
    },
    {
      "cell_type": "markdown",
      "metadata": {
        "id": "crrftk7_c-76"
      },
      "source": [
        "Now for the initiation ritual. Every programmer since the beginning of time has printed hello world to "
      ]
    },
    {
      "cell_type": "code",
      "metadata": {
        "id": "EeRedQh1PIY8"
      },
      "source": [
        "my_string = \"Supercalifragilisticexpialidocious\""
      ],
      "execution_count": null,
      "outputs": []
    },
    {
      "cell_type": "code",
      "metadata": {
        "id": "-XxoJnzDPU8V"
      },
      "source": [
        "len(my_string)"
      ],
      "execution_count": null,
      "outputs": []
    },
    {
      "cell_type": "code",
      "metadata": {
        "id": "rOoVogCWPik2"
      },
      "source": [
        "my_second_string = ' is a very long string'"
      ],
      "execution_count": null,
      "outputs": []
    },
    {
      "cell_type": "code",
      "metadata": {
        "id": "CeSAMODHPqx-"
      },
      "source": [
        "#Concatenation or concat for short"
      ],
      "execution_count": null,
      "outputs": []
    },
    {
      "cell_type": "code",
      "metadata": {
        "id": "V7a6rFwlP-6S"
      },
      "source": [
        "number = input()\n",
        "print('My number is {}'.format(number))"
      ],
      "execution_count": null,
      "outputs": []
    },
    {
      "cell_type": "code",
      "metadata": {
        "id": "yRnJXp58iuTS"
      },
      "source": [
        " '7' + '9'"
      ],
      "execution_count": null,
      "outputs": []
    },
    {
      "cell_type": "markdown",
      "metadata": {
        "id": "_5H-cHMWKmKq"
      },
      "source": [
        "# Arithmetic Operations\r\n",
        "\r\n",
        "Arithmetic operations work the same in programming as they normally would. 1 + 1 still equals 2. \r\n",
        "\r\n",
        "*   Addition denoted by the +\r\n",
        "*   Subtraction denoted by the -\r\n",
        "*   Multiplication denoted by the *\r\n",
        "*   Division denoted by the /\r\n",
        "*   Modulo denoted by the % (Returns the remainder from division)\r\n",
        "\r\n",
        "\r\n"
      ]
    },
    {
      "cell_type": "code",
      "metadata": {
        "id": "7g1Etf2OvJDd"
      },
      "source": [
        "209 + 900"
      ],
      "execution_count": null,
      "outputs": []
    },
    {
      "cell_type": "code",
      "metadata": {
        "id": "EQUichG6vLo5"
      },
      "source": [
        "8984 - 986"
      ],
      "execution_count": null,
      "outputs": []
    },
    {
      "cell_type": "code",
      "metadata": {
        "id": "KYAJxe9gvOFd"
      },
      "source": [
        "768089877 * 93838848"
      ],
      "execution_count": null,
      "outputs": []
    },
    {
      "cell_type": "code",
      "metadata": {
        "id": "EgD2do3BvXzU"
      },
      "source": [
        "100 / 5"
      ],
      "execution_count": null,
      "outputs": []
    },
    {
      "cell_type": "code",
      "metadata": {
        "id": "0SiiNgQyvcWK"
      },
      "source": [
        "10 % 2"
      ],
      "execution_count": null,
      "outputs": []
    },
    {
      "cell_type": "markdown",
      "metadata": {
        "id": "eqY-bpJB-fhK"
      },
      "source": [
        "# Comments\r\n",
        "Comments are used to document your codebase for other developers or for you to reference at later points. Guaranteed you will forget what a piece of code does if you don't use it often\r\n",
        "In python there are two ways two ways to add comments to your code\r\n",
        "\r\n",
        "\r\n",
        "\r\n",
        "1.   For single line comments use a hashtag #\r\n",
        "2.   Triple quotes for multiline comments ''' '''\r\n",
        "\r\n",
        "\r\n",
        "\r\n",
        "\r\n",
        "*   Comments are not a part of your codebase and don't change it's functionality\r\n",
        "*   Anything encapsulated by the comments will run at runtime\r\n",
        "\r\n",
        "\r\n",
        "\r\n",
        "\r\n"
      ]
    },
    {
      "cell_type": "markdown",
      "metadata": {
        "id": "qPPek24FkUmX"
      },
      "source": [
        "# Control Flow\n",
        "\n",
        "In computer science, control flow (or flow of control) is the order in which individual statements, instructions or function calls of an imperative program are executed or evaluated.\n",
        "\n",
        "Within an imperative programming language, a control flow statement is a statement that results in a choice being made as to which of two or more paths to follow.\n",
        "\n",
        "A set of statements is in turn generally structured as a block, which in addition to grouping, also defines a lexical scope."
      ]
    },
    {
      "cell_type": "markdown",
      "metadata": {
        "id": "cw4uPIk0vyzP"
      },
      "source": [
        "## Boolean Logic\n",
        "\n",
        "A data type that has one of two possible values (usually denoted true and false) which is intended to represent the two truth values of logic and Boolean algebra.\n",
        "\n",
        "The Boolean data type is primarily associated with conditional statements, which allow different actions by changing control flow depending on whether a programmer-specified Boolean condition evaluates to true or false.\n",
        "\n",
        "\n",
        "\n",
        "*   and\n",
        "*   not\n",
        "*   or\n",
        "*   ==\n",
        "*   !=\n",
        "\n",
        "\n"
      ]
    },
    {
      "cell_type": "markdown",
      "metadata": {
        "id": "UDJchKU7gZ1T"
      },
      "source": [
        "Is A > B ?"
      ]
    },
    {
      "cell_type": "markdown",
      "metadata": {
        "id": "8LP6n_ZHg93F"
      },
      "source": [
        "Is A == a?"
      ]
    },
    {
      "cell_type": "markdown",
      "metadata": {
        "id": "vJWg-xLaitir"
      },
      "source": [
        "Is a > A?"
      ]
    },
    {
      "cell_type": "markdown",
      "metadata": {
        "id": "q5ZVsE5WgnCO"
      },
      "source": [
        "What is the value of True and True?"
      ]
    },
    {
      "cell_type": "markdown",
      "metadata": {
        "id": "-ps_iGsXgw6S"
      },
      "source": [
        "What is the value of True and False?\n"
      ]
    },
    {
      "cell_type": "markdown",
      "metadata": {
        "id": "2Kod76zsjIis"
      },
      "source": [
        "True or False? not True and not False"
      ]
    },
    {
      "cell_type": "markdown",
      "metadata": {
        "id": "yOpislC_hTDi"
      },
      "source": [
        "True or False? It is not true and not false or true and not true?"
      ]
    },
    {
      "cell_type": "markdown",
      "metadata": {
        "id": "291vVXpyjVNS"
      },
      "source": [
        "# What's the point and why do we need to know this?"
      ]
    },
    {
      "cell_type": "markdown",
      "metadata": {
        "id": "zVchKkIcoDuN"
      },
      "source": [
        "## If Statements\n",
        "\n",
        "In computer science, conditional statements, conditional expressions and conditional constructs are features of a programming language, which perform different computations or actions depending on whether a programmer-specified boolean condition evaluates to true or false."
      ]
    },
    {
      "cell_type": "code",
      "metadata": {
        "id": "1xO7cPeJBAvX",
        "colab": {
          "base_uri": "https://localhost:8080/"
        },
        "outputId": "9aacf02f-b084-4ee9-8027-9481d27320f6"
      },
      "source": [
        "if 'a' > 'b':\n",
        "  print('I told you so....')\n",
        "\n",
        "if True or False:\n",
        "  print(\"I'm pretty sure I'm right this time\")"
      ],
      "execution_count": null,
      "outputs": [
        {
          "output_type": "stream",
          "text": [
            "I'm pretty sure I'm right this time\n"
          ],
          "name": "stdout"
        }
      ]
    },
    {
      "cell_type": "markdown",
      "metadata": {
        "id": "97cKzkcLoKsw"
      },
      "source": [
        "## Else Statement"
      ]
    },
    {
      "cell_type": "code",
      "metadata": {
        "colab": {
          "base_uri": "https://localhost:8080/"
        },
        "id": "rrKQJhL6Be6q",
        "outputId": "8de5938b-b1db-4578-fad7-434860a2760b"
      },
      "source": [
        "if 'a' > 'b':\n",
        "  print('I told you so....')\n",
        "else:\n",
        "  print(\"Not today dude....\")\n",
        "\n",
        "if True and False:\n",
        "  print(\"I'm pretty sure I'm right this time\")\n",
        "else:\n",
        "  print(\"Or maybe not\")"
      ],
      "execution_count": null,
      "outputs": [
        {
          "output_type": "stream",
          "text": [
            "Not today dude....\n",
            "Or maybe not\n"
          ],
          "name": "stdout"
        }
      ]
    },
    {
      "cell_type": "markdown",
      "metadata": {
        "id": "WN5ZFvfGoPrU"
      },
      "source": [
        "## Elif"
      ]
    },
    {
      "cell_type": "code",
      "metadata": {
        "colab": {
          "base_uri": "https://localhost:8080/"
        },
        "id": "_rOiPti8CKYB",
        "outputId": "1e23a0fb-c51c-4358-ae41-aaf2c91a1e66"
      },
      "source": [
        "number_to_guess = int(input())\n",
        "\n",
        "\n",
        "if number_to_guess == 200:\n",
        "   print( \"1 - Got a true expression value\")\n",
        "   print(number_to_guess)\n",
        "elif number_to_guess == 150:\n",
        "   print (\"2 - Got a true expression value\")\n",
        "   print(number_to_guess)\n",
        "elif number_to_guess == 100:\n",
        "   print( \"3 - Got a true expression value\")\n",
        "   print(number_to_guess)\n",
        "else:\n",
        "   print( \"Nope try again later\")\n",
        "   print(number_to_guess)\n",
        "\n",
        "print(\"Good bye!\")"
      ],
      "execution_count": null,
      "outputs": [
        {
          "output_type": "stream",
          "text": [
            "5\n",
            "Nope try again later\n",
            "5\n",
            "Good bye!\n"
          ],
          "name": "stdout"
        }
      ]
    },
    {
      "cell_type": "code",
      "metadata": {
        "colab": {
          "base_uri": "https://localhost:8080/"
        },
        "id": "OJn9n_arZmIJ",
        "outputId": "85f58e52-5670-4ecd-dbe5-9955bd95859c"
      },
      "source": [
        "# Modulus/For Loop/List of Numbers Excercise (Print)\n",
        "# Modulus/For Loop/List of Numbers Excercise (Accumulation)\n",
        "\n",
        "\n",
        "my_list = [1, 2, 3, 4, 5, 6, 7, 8, 9, 10]\n",
        "only_evens = 0\n",
        "\n",
        "\n",
        "for i in my_list:\n",
        "  if i % 2 == 0:\n",
        "    only_evens += i\n",
        "\n",
        "\n",
        "print(only_evens)\n"
      ],
      "execution_count": null,
      "outputs": [
        {
          "output_type": "stream",
          "text": [
            "30\n"
          ],
          "name": "stdout"
        }
      ]
    },
    {
      "cell_type": "markdown",
      "metadata": {
        "id": "LhAWk7L9CTFS"
      },
      "source": [
        "# Errors\r\n",
        "\r\n",
        "\r\n",
        "\r\n",
        "1.   Syntax Errors (Definitely your fault)\r\n",
        "2.   Logical Errors (Exceptions) (More than likely also your fault)\r\n",
        "\r\n",
        "\r\n"
      ]
    },
    {
      "cell_type": "code",
      "metadata": {
        "id": "OpU0METkhapN"
      },
      "source": [
        "1guess = 10"
      ],
      "execution_count": null,
      "outputs": []
    },
    {
      "cell_type": "code",
      "metadata": {
        "id": "pSiqkZvYhihO"
      },
      "source": [
        "class = false"
      ],
      "execution_count": null,
      "outputs": []
    },
    {
      "cell_type": "code",
      "metadata": {
        "id": "Qvh1iyfviMtq"
      },
      "source": [
        "print('4' + 8)"
      ],
      "execution_count": null,
      "outputs": []
    },
    {
      "cell_type": "code",
      "metadata": {
        "id": "Shs4DgRnibVY"
      },
      "source": [
        "print(10 / 0)"
      ],
      "execution_count": null,
      "outputs": []
    }
  ]
}