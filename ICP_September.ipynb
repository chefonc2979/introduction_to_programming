{
  "nbformat": 4,
  "nbformat_minor": 0,
  "metadata": {
    "colab": {
      "name": "Introduction_to_computer_programming.ipynb",
      "provenance": [],
      "collapsed_sections": [
        "LhAWk7L9CTFS"
      ],
      "authorship_tag": "ABX9TyM0vWrUagsRjZD97Mkxv7qI",
      "include_colab_link": true
    },
    "kernelspec": {
      "name": "python3",
      "display_name": "Python 3"
    }
  },
  "cells": [
    {
      "cell_type": "markdown",
      "metadata": {
        "id": "view-in-github",
        "colab_type": "text"
      },
      "source": [
        "<a href=\"https://colab.research.google.com/github/chefonc2979/introduction_to_programming/blob/main/ICP_September.ipynb\" target=\"_parent\"><img src=\"https://colab.research.google.com/assets/colab-badge.svg\" alt=\"Open In Colab\"/></a>"
      ]
    },
    {
      "cell_type": "code",
      "metadata": {
        "id": "XU8q__xDlFPR"
      },
      "source": [
        "import hashlib"
      ],
      "execution_count": 2,
      "outputs": []
    },
    {
      "cell_type": "code",
      "metadata": {
        "id": "N51b5c1rlWE9",
        "outputId": "8cb033cd-b504-4f72-cbd9-f9b4da68f5ad",
        "colab": {
          "base_uri": "https://localhost:8080/"
        }
      },
      "source": [
        "#string1 = 'yellow'\n",
        "#sha256 = hashlib.sha256(string1.encode())\n",
        "#hexdigest method for comparisions"
      ],
      "execution_count": 21,
      "outputs": [
        {
          "output_type": "stream",
          "name": "stdout",
          "text": [
            "True\n"
          ]
        }
      ]
    },
    {
      "cell_type": "markdown",
      "metadata": {
        "id": "jyom5v6wxrlV"
      },
      "source": [
        "# Introductions\n",
        "\n",
        "\n",
        "\n",
        "*   Your name and rank\n",
        "*   Where do you work?\n",
        "*   What made you sign up for this course?\n",
        "*   What are you looking to gain from this class?\n",
        "\n"
      ]
    },
    {
      "cell_type": "markdown",
      "metadata": {
        "id": "BhEGx8NdaHtP"
      },
      "source": [
        "# Course Objective\n",
        "\n",
        "The goal of this course is to provide you with the foundational knowledge necessary to be familiar with the python programming language. This course also serves as an introduction to software development fundamentals and is starting point for future courses.\n",
        "\n",
        "Topics Covered\n",
        "- Variables\n",
        "- Arithmetic Operation\n",
        "- Strings\n",
        "- Control Flow\n"
      ]
    },
    {
      "cell_type": "markdown",
      "metadata": {
        "id": "GKGv22oGKCpb"
      },
      "source": [
        "# What is a programming language and the need for abstraction?\n",
        "\n",
        "An abstraction is a way — be it a piece of code like a library, or a language feature — that allows you to think of your code in a more human-friendly way than would be possible without it.\n",
        "\n",
        "An abstraction lets you picture systems as if you were actually manipulating it instead of the actual implementation, which is often complex and full of nasty details you don’t actually really care about.\n",
        "\n",
        "Programming language are high level abstractions that allow a user to write computer instructions using a human readable language."
      ]
    },
    {
      "cell_type": "code",
      "metadata": {
        "colab": {
          "base_uri": "https://localhost:8080/",
          "height": 321
        },
        "id": "fCGBmSMxyK9P",
        "outputId": "f0dc6194-ecd2-4833-edc2-1523bbd96101"
      },
      "source": [
        "from IPython.display import YouTubeVideo\n",
        "YouTubeVideo('M41M9ATm49M')"
      ],
      "execution_count": null,
      "outputs": [
        {
          "output_type": "execute_result",
          "data": {
            "text/html": [
              "\n",
              "        <iframe\n",
              "            width=\"400\"\n",
              "            height=\"300\"\n",
              "            src=\"https://www.youtube.com/embed/M41M9ATm49M\"\n",
              "            frameborder=\"0\"\n",
              "            allowfullscreen\n",
              "        ></iframe>\n",
              "        "
            ],
            "text/plain": [
              "<IPython.lib.display.YouTubeVideo at 0x7f5ca61d5890>"
            ],
            "image/jpeg": "[encoded data removed]"
          },
          "metadata": {
            "tags": []
          },
          "execution_count": 1
        }
      ]
    },
    {
      "cell_type": "markdown",
      "metadata": {
        "id": "Ntuku2kKEMZI"
      },
      "source": [
        "# What is python?\n",
        "\n",
        "Python is a general-purpose coding language\n",
        "- Back end development\n",
        "-  Software development\n",
        "-  Data science/Machine Learning and Artificial Intelligence\n",
        "- Writing system scripts\n",
        "\n",
        "As of January 2021, Python ranks third in TIOBE’s index of most popular programming languages, behind C and Java\n"
      ]
    },
    {
      "cell_type": "code",
      "metadata": {
        "colab": {
          "base_uri": "https://localhost:8080/",
          "height": 321
        },
        "id": "I5cOoN5NTaCy",
        "outputId": "8804eb3b-2b27-4e39-f1c1-4775cdfc8190"
      },
      "source": [
        "from IPython.display import YouTubeVideo\n",
        "YouTubeVideo('Y8Tko2YC5hA')"
      ],
      "execution_count": null,
      "outputs": [
        {
          "output_type": "execute_result",
          "data": {
            "text/html": [
              "\n",
              "        <iframe\n",
              "            width=\"400\"\n",
              "            height=\"300\"\n",
              "            src=\"https://www.youtube.com/embed/Y8Tko2YC5hA\"\n",
              "            frameborder=\"0\"\n",
              "            allowfullscreen\n",
              "        ></iframe>\n",
              "        "
            ],
            "text/plain": [
              "<IPython.lib.display.YouTubeVideo at 0x7f1b93ebc210>"
            ],
            "image/jpeg": "[encoded data removed]"
          },
          "metadata": {
            "tags": []
          },
          "execution_count": 18
        }
      ]
    },
    {
      "cell_type": "markdown",
      "metadata": {
        "id": "Hz2Y-vSQ-URQ"
      },
      "source": [
        "# Variables\n",
        "* A variable name must start with a letter or the underscore character.\n",
        "* A variable name cannot start with a number.\n",
        "* A variable name can only contain alpha-numeric characters and underscores (A-z, 0-9, and _ ).\n",
        "* Variable names are case-sensitive (name, Name and NAME are three different variables).\n",
        "* The reserved words(keywords) cannot be used naming the variable."
      ]
    },
    {
      "cell_type": "markdown",
      "metadata": {
        "id": "eqY-bpJB-fhK"
      },
      "source": [
        "# Comments\n",
        "Comments are used to document your codebase for other developers or for you to reference at later points. Guaranteed you will forget what a piece of code does if you don't use it often\n",
        "In python there are two ways two ways to add comments to your code\n",
        "\n",
        "\n",
        "\n",
        "1.   For single line comments use a hashtag #\n",
        "2.   Triple quotes for multiline comments ''' '''\n",
        "\n",
        "\n",
        "\n",
        "\n",
        "*   Comments are not a part of your codebase and don't change it's functionality\n",
        "*   Anything encapsulated by the comments will run at runtime\n",
        "\n",
        "\n",
        "\n",
        "\n"
      ]
    },
    {
      "cell_type": "markdown",
      "metadata": {
        "id": "Bra0fDg6nnW7"
      },
      "source": [
        "## Strings"
      ]
    },
    {
      "cell_type": "markdown",
      "metadata": {
        "id": "Bo3EPu4LVHJo"
      },
      "source": [
        "Print hello world"
      ]
    },
    {
      "cell_type": "code",
      "metadata": {
        "id": "vG4o0c71VFPM"
      },
      "source": [
        ""
      ],
      "execution_count": null,
      "outputs": []
    },
    {
      "cell_type": "markdown",
      "metadata": {
        "id": "dhCaP660yiGq"
      },
      "source": [
        "Assign your first name to the variable first_name"
      ]
    },
    {
      "cell_type": "code",
      "metadata": {
        "id": "YwEf3W-dVDBF"
      },
      "source": [
        ""
      ],
      "execution_count": null,
      "outputs": []
    },
    {
      "cell_type": "markdown",
      "metadata": {
        "id": "WgRopro8yyBj"
      },
      "source": [
        "Assign your first name to the variable last_name"
      ]
    },
    {
      "cell_type": "code",
      "metadata": {
        "id": "Va8Oje_9VEBy"
      },
      "source": [
        ""
      ],
      "execution_count": null,
      "outputs": []
    },
    {
      "cell_type": "markdown",
      "metadata": {
        "id": "ob8ou1bO0K0S"
      },
      "source": [
        "Print out your full name"
      ]
    },
    {
      "cell_type": "code",
      "metadata": {
        "id": "U9mgt1okVMXI"
      },
      "source": [
        ""
      ],
      "execution_count": null,
      "outputs": []
    },
    {
      "cell_type": "markdown",
      "metadata": {
        "id": "yTHjB-06zDY9"
      },
      "source": [
        "How would you determine how long your first name is? Your last name?\n",
        "\n",
        "How would you use this in a real application?"
      ]
    },
    {
      "cell_type": "code",
      "metadata": {
        "id": "VbucbjMqVQEy"
      },
      "source": [
        ""
      ],
      "execution_count": null,
      "outputs": []
    },
    {
      "cell_type": "markdown",
      "metadata": {
        "id": "AlTZkaTQ3Jkg"
      },
      "source": [
        "What happens if I attempt to add two numbers together but they're strings?"
      ]
    },
    {
      "cell_type": "code",
      "metadata": {
        "id": "_S89nl4oVavI"
      },
      "source": [
        ""
      ],
      "execution_count": null,
      "outputs": []
    },
    {
      "cell_type": "markdown",
      "metadata": {
        "id": "lW9m4ohQ31Ok"
      },
      "source": [
        "Lets redo the first three excercises but this time use the built in input function to capture the users name and display a welcome message"
      ]
    },
    {
      "cell_type": "code",
      "metadata": {
        "id": "ol3my7GaVcWm"
      },
      "source": [
        ""
      ],
      "execution_count": null,
      "outputs": []
    },
    {
      "cell_type": "markdown",
      "metadata": {
        "id": "_5H-cHMWKmKq"
      },
      "source": [
        "# Arithmetic Operations\n",
        "\n",
        "Arithmetic operations work the same in programming as they normally would. 1 + 1 still equals 2. \n",
        "\n",
        "*   Addition denoted by the +\n",
        "*   Subtraction denoted by the -\n",
        "*   Multiplication denoted by the *\n",
        "*   Division denoted by the /\n",
        "*   Modulo denoted by the % (Returns the remainder from division)\n",
        "\n",
        "\n"
      ]
    },
    {
      "cell_type": "markdown",
      "metadata": {
        "id": "tkjpR9z31nZW"
      },
      "source": [
        "Given the formula to convert a temperature from Celsius to Farenheight, convert 10 Degrees Celsius to Farenheight. \n",
        "\n",
        "*`(Temp in Celsius × 9/5) + 32 = Temp in Farenheight`*"
      ]
    },
    {
      "cell_type": "code",
      "metadata": {
        "id": "a52Tlx-hVlsc"
      },
      "source": [
        ""
      ],
      "execution_count": null,
      "outputs": []
    },
    {
      "cell_type": "markdown",
      "metadata": {
        "id": "D12LL1j24zPM"
      },
      "source": [
        "Given a circle radius of 15. Calculate the area, circumference and diameter of that circle\n",
        "\n",
        "* A = Pi * Radius Squared\n",
        "* C = 2 * PI * Radius\n",
        "* D = 2 * R"
      ]
    },
    {
      "cell_type": "code",
      "metadata": {
        "id": "rncQGnUii6yN"
      },
      "source": [
        ""
      ],
      "execution_count": null,
      "outputs": []
    },
    {
      "cell_type": "markdown",
      "metadata": {
        "id": "qPPek24FkUmX"
      },
      "source": [
        "# Control Flow\n",
        "\n",
        "In computer science, control flow (or flow of control) is the order in which individual statements, instructions or function calls of an imperative program are executed or evaluated.\n",
        "\n",
        "Within an imperative programming language, a control flow statement is a statement that results in a choice being made as to which of two or more paths to follow.\n",
        "\n",
        "A set of statements is in turn generally structured as a block, which in addition to grouping, also defines a lexical scope."
      ]
    },
    {
      "cell_type": "markdown",
      "metadata": {
        "id": "cw4uPIk0vyzP"
      },
      "source": [
        "## Boolean Logic\n",
        "\n",
        "A data type that has one of two possible values (usually denoted true and false) which is intended to represent the two truth values of logic and Boolean algebra.\n",
        "\n",
        "The Boolean data type is primarily associated with conditional statements, which allow different actions by changing control flow depending on whether a programmer-specified Boolean condition evaluates to true or false.\n",
        "\n",
        "\n",
        "\n",
        "*   and\n",
        "*   not\n",
        "*   or\n",
        "*   ==\n",
        "*   !=\n",
        "\n",
        "Reserved keywords*\n",
        "\n",
        "\n"
      ]
    },
    {
      "cell_type": "markdown",
      "metadata": {
        "id": "UDJchKU7gZ1T"
      },
      "source": [
        "Is A > B ?"
      ]
    },
    {
      "cell_type": "code",
      "metadata": {
        "id": "V_9BaYGyYIrI"
      },
      "source": [
        ""
      ],
      "execution_count": null,
      "outputs": []
    },
    {
      "cell_type": "markdown",
      "metadata": {
        "id": "8LP6n_ZHg93F"
      },
      "source": [
        "Is A == a?"
      ]
    },
    {
      "cell_type": "code",
      "metadata": {
        "id": "SESEnfpfYKCs"
      },
      "source": [
        ""
      ],
      "execution_count": null,
      "outputs": []
    },
    {
      "cell_type": "markdown",
      "metadata": {
        "id": "vJWg-xLaitir"
      },
      "source": [
        "Is a > A?"
      ]
    },
    {
      "cell_type": "code",
      "metadata": {
        "id": "hJGZrxXjYKpe"
      },
      "source": [
        ""
      ],
      "execution_count": null,
      "outputs": []
    },
    {
      "cell_type": "markdown",
      "metadata": {
        "id": "q5ZVsE5WgnCO"
      },
      "source": [
        "What is the value of True and True?"
      ]
    },
    {
      "cell_type": "code",
      "metadata": {
        "id": "jn3jTK-OYLmG"
      },
      "source": [
        ""
      ],
      "execution_count": null,
      "outputs": []
    },
    {
      "cell_type": "markdown",
      "metadata": {
        "id": "-ps_iGsXgw6S"
      },
      "source": [
        "What is the value of True and False?\n"
      ]
    },
    {
      "cell_type": "code",
      "metadata": {
        "id": "O0Ehsch8YMIK"
      },
      "source": [
        ""
      ],
      "execution_count": null,
      "outputs": []
    },
    {
      "cell_type": "markdown",
      "metadata": {
        "id": "2Kod76zsjIis"
      },
      "source": [
        "True or False? not True and not False"
      ]
    },
    {
      "cell_type": "code",
      "metadata": {
        "id": "txKijTO0YMyO"
      },
      "source": [
        ""
      ],
      "execution_count": null,
      "outputs": []
    },
    {
      "cell_type": "markdown",
      "metadata": {
        "id": "yOpislC_hTDi"
      },
      "source": [
        "True or False? It is not true and not false or true and not true?"
      ]
    },
    {
      "cell_type": "code",
      "metadata": {
        "id": "VCgVru7WYNnG"
      },
      "source": [
        ""
      ],
      "execution_count": null,
      "outputs": []
    },
    {
      "cell_type": "markdown",
      "metadata": {
        "id": "291vVXpyjVNS"
      },
      "source": [
        ""
      ]
    },
    {
      "cell_type": "markdown",
      "metadata": {
        "id": "zVchKkIcoDuN"
      },
      "source": [
        "## If Statements\n",
        "\n",
        "In computer science, conditional statements, conditional expressions and conditional constructs are features of a programming language, which perform different computations or actions depending on whether a programmer-specified boolean condition evaluates to true or false.\n",
        "\n",
        "Password Checking Excercise\n",
        "\n",
        "To learn and practice control flow. We're going to learn how to use conditional statements to simulate the logic used by every website. Password Authentication"
      ]
    },
    {
      "cell_type": "code",
      "metadata": {
        "id": "1xO7cPeJBAvX"
      },
      "source": [
        "# 1. Create a variable named set_password to hold the user's password\n",
        "# 2. Create a variable to ask a user to enter their password\n",
        "# 3. Create an if statement to check if the user_input is equal to set_password, print a statement if true"
      ],
      "execution_count": null,
      "outputs": []
    },
    {
      "cell_type": "markdown",
      "metadata": {
        "id": "97cKzkcLoKsw"
      },
      "source": [
        "## Else Statement"
      ]
    },
    {
      "cell_type": "code",
      "metadata": {
        "id": "rrKQJhL6Be6q"
      },
      "source": [
        "# 1. Repeat steps 1-2 from the previous excercise\n",
        "# 2. Create an if statement that checks the length of the user input and prints out a warning if the length is < 1\n",
        "# 3. Add an else statement that runs that runs the if statement from the prev excercise\n",
        "\n",
        "# What happens if you enter an invalid password"
      ],
      "execution_count": null,
      "outputs": []
    },
    {
      "cell_type": "markdown",
      "metadata": {
        "id": "WN5ZFvfGoPrU"
      },
      "source": [
        ""
      ]
    },
    {
      "cell_type": "code",
      "metadata": {
        "id": "_rOiPti8CKYB",
        "colab": {
          "base_uri": "https://localhost:8080/"
        },
        "outputId": "c71354e7-3960-466f-9daf-3d6b48b9e5ea"
      },
      "source": [
        "# 1. Repeat steps 1-2 from the prev excercise\n",
        "# 2. Add an elif that prints a statement if the password is wrong"
      ],
      "execution_count": null,
      "outputs": [
        {
          "output_type": "stream",
          "text": [
            "Please enter your password dfsf\n",
            "That's an invalid password\n"
          ],
          "name": "stdout"
        }
      ]
    },
    {
      "cell_type": "markdown",
      "metadata": {
        "id": "k1tCjbSGa63b"
      },
      "source": [
        "Bonus Material\n",
        "\n",
        "\n",
        "*   For Loops\n",
        "*   While Loops\n",
        "* Arrays or Lists\n",
        "\n"
      ]
    },
    {
      "cell_type": "markdown",
      "metadata": {
        "id": "rxilkEf7aDI7"
      },
      "source": [
        "# Arrays or Lists\n",
        "Lists are just like dynamic sized arrays, declared in other languages (vector in C++ and ArrayList in Java). Lists need not be homogeneous always which makes it a most powerful tool in Python. A single list may contain DataTypes like Integers, Strings, as well as Objects. Lists are mutable, and hence, they can be altered even after their creation.\n",
        "\n",
        "List in Python are ordered and have a definite count. The elements in a list are indexed according to a definite sequence and the indexing of a list is done with 0 being the first index. Each element in the list has its definite place in the list, which allows duplicating of elements in the list, with each element having its own distinct place and credibility.\n",
        "\n",
        "Ways to create a list\n",
        "\n",
        "*  [] and list()\n",
        "\n",
        "\n",
        "\n",
        "\n",
        "\n",
        "How to add items\n",
        "* .append()\n",
        "* .insert(index, value)\n",
        "\n",
        "How to remove items\n",
        "* .remove(value)\n",
        "* .pop() w/ index or empty\n",
        "\n",
        "How to access items\n",
        "* single indexing []\n",
        "* range indexing []\n",
        "* negative indexing"
      ]
    },
    {
      "cell_type": "code",
      "metadata": {
        "id": "OJn9n_arZmIJ"
      },
      "source": [
        "# Modulus/For Loop/List of Numbers Excercise (Print)\n",
        "# Modulus/For Loop/List of Numbers Excercise (Accumulation)\n",
        "# While loop counter"
      ],
      "execution_count": null,
      "outputs": []
    },
    {
      "cell_type": "markdown",
      "metadata": {
        "id": "LhAWk7L9CTFS"
      },
      "source": [
        "# Errors\n",
        "\n",
        "\n",
        "\n",
        "1.   Syntax Errors (Definitely your fault)\n",
        "2.   Logical Errors (Exceptions) (More than likely also your fault)\n",
        "\n",
        "\n"
      ]
    },
    {
      "cell_type": "code",
      "metadata": {
        "id": "OpU0METkhapN"
      },
      "source": [
        "1guess = 10"
      ],
      "execution_count": null,
      "outputs": []
    },
    {
      "cell_type": "code",
      "metadata": {
        "id": "pSiqkZvYhihO"
      },
      "source": [
        "class = false"
      ],
      "execution_count": null,
      "outputs": []
    },
    {
      "cell_type": "code",
      "metadata": {
        "id": "Qvh1iyfviMtq"
      },
      "source": [
        "print('4' + 8)"
      ],
      "execution_count": null,
      "outputs": []
    },
    {
      "cell_type": "code",
      "metadata": {
        "id": "Shs4DgRnibVY"
      },
      "source": [
        "print(10 / 0)"
      ],
      "execution_count": null,
      "outputs": []
    },
    {
      "cell_type": "markdown",
      "metadata": {
        "id": "q_XHPPSfZZMm"
      },
      "source": [
        "Resources\n",
        "\n",
        "\n",
        "\n",
        "*   Free Code Camp (Free)\n",
        "*   Codecademy (Free and Paid)\n",
        "*   Data Camp (Free and Paid)\n",
        "\n",
        "\n"
      ]
    }
  ]
}